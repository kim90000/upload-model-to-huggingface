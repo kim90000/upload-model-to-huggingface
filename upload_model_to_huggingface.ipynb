{
  "nbformat": 4,
  "nbformat_minor": 0,
  "metadata": {
    "colab": {
      "provenance": []
    },
    "kernelspec": {
      "name": "python3",
      "display_name": "Python 3"
    },
    "language_info": {
      "name": "python"
    }
  },
  "cells": [
    {
      "cell_type": "code",
      "execution_count": null,
      "metadata": {
        "id": "dLNANoXmohcH"
      },
      "outputs": [],
      "source": []
    },
    {
      "cell_type": "code",
      "source": [
        "from huggingface_hub import login\n",
        "\n",
        "# أدخل توكن المصادقة الخاص بك\n",
        "login(\"\")\n"
      ],
      "metadata": {
        "id": "n2ReNRLQW3hD"
      },
      "execution_count": null,
      "outputs": []
    },
    {
      "cell_type": "code",
      "source": [
        "from huggingface_hub import HfApi, HfFolder, Repository, upload_folder\n",
        "\n",
        "# إعدادات رفع النموذج\n",
        "model_path = \"/content/gpt2\"  # مسار المجلد المحلي الذي يحتوي على النموذج\n",
        "repo_name = \"rakmik/gpt2\"  # اسم المستودع الذي تريد رفع النموذج إليه (username/repo_name)\n",
        "\n",
        "# رفع النموذج\n",
        "upload_folder(\n",
        "    folder_path=model_path,       # مسار المجلد المحلي\n",
        "    repo_id=repo_name,            # اسم المستودع على Hugging Face\n",
        "    repo_type=\"model\",            # نوع المستودع (model أو dataset)\n",
        "    commit_message=\"Initial commit\",  # رسالة الالتزام\n",
        "    ignore_patterns=[\"*.tmp\"]     # تجاهل الملفات غير المرغوب فيها\n",
        ")\n",
        "\n",
        "print(f\"Model uploaded successfully to: https://huggingface.co/{repo_name}\")\n"
      ],
      "metadata": {
        "colab": {
          "base_uri": "https://localhost:8080/",
          "height": 418,
          "referenced_widgets": [
            "6179fd90c6424447be68559c3fe55056",
            "919b117a8989425ab4b3ea62c919fb9a",
            "02d39d244b994678bd75e06748202c50",
            "7bb8163f69544a08996d94991f167392",
            "ad974f058e5a45f8bf129659f59a5053",
            "d576b70263fa4e1a8d6360de97ae7111",
            "e25ab05aa832442f9bd6d7d1b8ee364d",
            "2c71814b6bb2445d85026a7cb2304cb2",
            "85d8f366ae7044338a99e216fbffd1e0",
            "47dc106257b14e5489f490517b70ebad",
            "b9b0f978eb8c40098bea488b53b93817",
            "1e2d89d02145463c917dbae82376e781",
            "64f83dce7a21490aa7198795b3775a9f",
            "730331fda80d4531851c00db6ec84d0d",
            "82453f3abe084911b87cc18b4ff9b841",
            "80d58414842f40de84b5049855bead47",
            "620158b5f85947469a70dd7cc6e394ca",
            "c2ec374c366c4036a89bdff605a6f4bc",
            "6b778a2bc1ac45ecb3571dfcd49c15f1",
            "84d7b804282945dc82484b6793869f98",
            "3ef3fd31e99c4d8f9808b577fadcf557",
            "c3afe180fd234152b3f3c0863fb185ef",
            "88d2816509af4b24ba649814bda9d815",
            "6539a51411fb489c8ecf8b8adb989fb4",
            "6eed69a0048a487a80c61748e2ee2d14",
            "10f9acc2d94849d5be3a8208f75e7a19",
            "19dc4117303242d08ed8bf02f91b9884",
            "65cafe586c6248f7b7d293584b8b08b2",
            "2fa1a34c086b4e84a214bf327c3bcdcb",
            "143a091a865b4e14b84b33ee96f3a349",
            "04d5e69d0bf044c4bb844a43d194174c",
            "5571210765c94db9b6bb0a522a537c66",
            "635cf3316d644fd8a1372c09daa96cce",
            "aa9f92e0b2a94a28aec5958f2e5c74b9",
            "8ee52360c66f4e37b0bedd707f6f3bbb",
            "12be346556fb451fa14fa624c0cbf22e",
            "f1547fc0d12544a4bdd5a01d0e68242a",
            "ef44b631ff6940478ac2d43d429bf583",
            "b2f9a4a76b4148898e912fd7303ebb88",
            "b7920149edd7477b979283c74014b2f1",
            "26b1aa86658f4038b4569487de984f80",
            "3ee9ea76f1a04c8cb06829413eb1fed2",
            "5697a6b600b44392b3698a87d20402a1",
            "e9501efc092d44bcb3afd78ad98d8665",
            "0e52293c7eef462da7c368f2eba802e8",
            "d4d048d492f540efa9e981dbee4adb46",
            "8d638aadcfd845b6a3839e5fad7bcf2e",
            "e53d5858d69e4a429ab1c5423f35a743",
            "6e7464f0508b44da9befdea09859b05d",
            "521c19396a6c4fc7be0939d9c53b5123",
            "1fda09d52c9645b9b52bb83aa51a2da4",
            "7ae3de3a45e649ebbd5218ef8dfebebb",
            "18b449a00ee84bc3a99f604a5cb4e277",
            "81b20243d2634358b3e16af8c387ce36",
            "12f6a9527e0949209081adb73b7203b6",
            "8f74f1311fa34d2182b09fcdacf3aeaa",
            "8b6c7825786e4a43a4e308e4af680a27",
            "1911b9ba48f646b0bb45bb4389d40171",
            "0aefcfd958fd4541afe661e0ef224ae1",
            "813c60f3287848f0888502df0946cbc0",
            "8b3fb140c143445a8a41208370a56cae",
            "4184cf9c245649bc9c672e0dc78f74c3",
            "54124a70140a412299f2a0a94dd5ecb0",
            "83fbaa6b1754404faa1597579c1aa114",
            "68fe765e444a4953aabae4060c0ee2c3",
            "777190a5932b45ce973d004ac286d1c1",
            "815b49346c9c41908f57e389a5e384a0",
            "3eaa95c8c01a43bbb77a9fc1c7fbec88",
            "4f3546b70d2e4410867c592aca21c51b",
            "c2ebc933e0fb4487b6ffbfc6d19b0963",
            "bef357de00ae4ef7b4cd635e95254ef0",
            "d8db41b7448e4950911524b4cd1c3de9",
            "ed3db43b93894b2e8948cb451bf9448e",
            "2e3731b174e94c48925804b98c1abebd",
            "7ece088b5774421dba8249d8f55bdb24",
            "acedc2af22a54d4c9870ad1b8ec959f4",
            "ac277bc1cfc2467992269ec50552ed90",
            "9ef4ce2dbf5844d581ead860a587d9cd",
            "67c4588a5c0e4017b4c259b7984b4a89",
            "33c4abe5c4c4408f88641be297c9c268",
            "267f347c26dd4840ad37d0a9a930d355",
            "b775ef7fcd55415bb4fd3c88f3e0ab10",
            "3158a943b989455480acc46574010f71",
            "90ccaf5cc88d46efbe22bd2bd2ab72c1",
            "a3530163d24b4215b6ca59238f22226e",
            "6a142c5a98be4464a2b681286c5e78f6",
            "7c1cd552f15e453382e03432b6cffd71",
            "d33b0ec6ea5e42b7be467c5e854fcd75",
            "389e4019894843abbf546b219bac8f4b",
            "3f4039ffd19c4642b9977e5a67de252b",
            "a7d31f01531543d9a117d58142d40ecb",
            "573cbeb94d184f73971ee558ec1fa4bd",
            "5202359a94f74b3e97e9246f84d0fe7b",
            "2d21166888704cd4b7fe675cb4d94dfc",
            "077aada901624f26a467f8889075c9e4",
            "66a54806b1bf4921937d631554b6d70a",
            "42b12c301bbf47df9dc8ecc75b6689aa",
            "0cdf3855d24c4bd4a1d923857bb6bbc9",
            "b16742707ffd4abe8df09748e3a24432",
            "eda3aeac55b84c70b21cebd87f2e5aa3",
            "1cebff7372024f1298dd11c6d9783501",
            "be61bfdb0f894c6ea21f70f8476fe222",
            "d56faf7b392940948ab7798168dde4e8",
            "3114359e02034c13a7e4f1975bd105cd",
            "4feebafbcffd4be880037ca0a99a3cc1",
            "6f57c4f59af84ddeaeacf06e056a3cdc",
            "7aa2370b3b054e69be0bf85263fc5779",
            "1f4355e23b89496cb0b3b60026f3bfd3",
            "cf78bdf3450c44ee821a7baf192db03d",
            "3b469d8278a841189a3e3d98f2a5a4cd",
            "b2645bb4f322416fb0a2128592f83579",
            "bcb9b38260624bd8ad8ead742c47fd23",
            "5958110413684d4485326cc0284966c2",
            "e4dfc438e2ea4eb391be702110495a3a",
            "826af6e3f8fe4ba0855f126ad3b0c0b6",
            "326fcef458b74373ada6e45142df1f1b",
            "ac6707aee8b34b01b1ebb3c13bfc98c0",
            "7b7371b0cef841f4885a71b1778f93b5",
            "632c2d8370334159a5f837a64644a710",
            "384ab9f5c15048e581e07079000737c2",
            "65406b2f6aae40079caf3f3fe77eee4c",
            "7bf803897a1b49f4b7d3138786209e14",
            "4c734cd3513b4c48915cd6c5b1439876",
            "14f2059230984bc4a48c5bf37b9ffb53",
            "a1d6a23e12564dcfb263ed79230b1fba",
            "0dbb40c837d047fb8fb5cc4b0d6999df",
            "3ed8d6028f284d26a8f4ab1552f0076c",
            "00aa7dc1396c4a09940fcae3bc9233e0",
            "0f775d8ca0e246998d74885e88c92d56",
            "46da969616f642b68f13efc072164e28",
            "ce3c5bf3c5834f469fe9f87027ee25e1",
            "a185c97a8e2a470084d008b94bbec4c5"
          ]
        },
        "id": "PewqmutqW5_7",
        "outputId": "bd2d7d97-b5a6-4aeb-d6f2-c4436b48e436"
      },
      "execution_count": null,
      "outputs": [
        {
          "output_type": "display_data",
          "data": {
            "text/plain": [
              "64-8bits.tflite:   0%|          | 0.00/125M [00:00<?, ?B/s]"
            ],
            "application/vnd.jupyter.widget-view+json": {
              "version_major": 2,
              "version_minor": 0,
              "model_id": "6179fd90c6424447be68559c3fe55056"
            }
          },
          "metadata": {}
        },
        {
          "output_type": "display_data",
          "data": {
            "text/plain": [
              "64-fp16.tflite:   0%|          | 0.00/248M [00:00<?, ?B/s]"
            ],
            "application/vnd.jupyter.widget-view+json": {
              "version_major": 2,
              "version_minor": 0,
              "model_id": "1e2d89d02145463c917dbae82376e781"
            }
          },
          "metadata": {}
        },
        {
          "output_type": "display_data",
          "data": {
            "text/plain": [
              "64.tflite:   0%|          | 0.00/496M [00:00<?, ?B/s]"
            ],
            "application/vnd.jupyter.widget-view+json": {
              "version_major": 2,
              "version_minor": 0,
              "model_id": "88d2816509af4b24ba649814bda9d815"
            }
          },
          "metadata": {}
        },
        {
          "output_type": "display_data",
          "data": {
            "text/plain": [
              "Upload 11 LFS files:   0%|          | 0/11 [00:00<?, ?it/s]"
            ],
            "application/vnd.jupyter.widget-view+json": {
              "version_major": 2,
              "version_minor": 0,
              "model_id": "aa9f92e0b2a94a28aec5958f2e5c74b9"
            }
          },
          "metadata": {}
        },
        {
          "output_type": "display_data",
          "data": {
            "text/plain": [
              "flax_model.msgpack:   0%|          | 0.00/498M [00:00<?, ?B/s]"
            ],
            "application/vnd.jupyter.widget-view+json": {
              "version_major": 2,
              "version_minor": 0,
              "model_id": "0e52293c7eef462da7c368f2eba802e8"
            }
          },
          "metadata": {}
        },
        {
          "output_type": "display_data",
          "data": {
            "text/plain": [
              "model.safetensors:   0%|          | 0.00/548M [00:00<?, ?B/s]"
            ],
            "application/vnd.jupyter.widget-view+json": {
              "version_major": 2,
              "version_minor": 0,
              "model_id": "8f74f1311fa34d2182b09fcdacf3aeaa"
            }
          },
          "metadata": {}
        },
        {
          "output_type": "display_data",
          "data": {
            "text/plain": [
              "decoder_model.onnx:   0%|          | 0.00/654M [00:00<?, ?B/s]"
            ],
            "application/vnd.jupyter.widget-view+json": {
              "version_major": 2,
              "version_minor": 0,
              "model_id": "815b49346c9c41908f57e389a5e384a0"
            }
          },
          "metadata": {}
        },
        {
          "output_type": "display_data",
          "data": {
            "text/plain": [
              "decoder_model_merged.onnx:   0%|          | 0.00/655M [00:00<?, ?B/s]"
            ],
            "application/vnd.jupyter.widget-view+json": {
              "version_major": 2,
              "version_minor": 0,
              "model_id": "9ef4ce2dbf5844d581ead860a587d9cd"
            }
          },
          "metadata": {}
        },
        {
          "output_type": "display_data",
          "data": {
            "text/plain": [
              "decoder_with_past_model.onnx:   0%|          | 0.00/654M [00:00<?, ?B/s]"
            ],
            "application/vnd.jupyter.widget-view+json": {
              "version_major": 2,
              "version_minor": 0,
              "model_id": "389e4019894843abbf546b219bac8f4b"
            }
          },
          "metadata": {}
        },
        {
          "output_type": "display_data",
          "data": {
            "text/plain": [
              "pytorch_model.bin:   0%|          | 0.00/548M [00:00<?, ?B/s]"
            ],
            "application/vnd.jupyter.widget-view+json": {
              "version_major": 2,
              "version_minor": 0,
              "model_id": "eda3aeac55b84c70b21cebd87f2e5aa3"
            }
          },
          "metadata": {}
        },
        {
          "output_type": "display_data",
          "data": {
            "text/plain": [
              "rust_model.ot:   0%|          | 0.00/703M [00:00<?, ?B/s]"
            ],
            "application/vnd.jupyter.widget-view+json": {
              "version_major": 2,
              "version_minor": 0,
              "model_id": "b2645bb4f322416fb0a2128592f83579"
            }
          },
          "metadata": {}
        },
        {
          "output_type": "display_data",
          "data": {
            "text/plain": [
              "tf_model.h5:   0%|          | 0.00/498M [00:00<?, ?B/s]"
            ],
            "application/vnd.jupyter.widget-view+json": {
              "version_major": 2,
              "version_minor": 0,
              "model_id": "7bf803897a1b49f4b7d3138786209e14"
            }
          },
          "metadata": {}
        },
        {
          "output_type": "stream",
          "name": "stdout",
          "text": [
            "Model uploaded successfully to: https://huggingface.co/rakmik/gpt2\n"
          ]
        }
      ]
    }
  ]
}